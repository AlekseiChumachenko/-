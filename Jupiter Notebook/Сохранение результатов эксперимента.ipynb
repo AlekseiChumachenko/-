{
 "cells": [
  {
   "cell_type": "markdown",
   "id": "ef3c034b",
   "metadata": {},
   "source": [
    "### 1.1 Цель\n",
    "Предсказание оценки качества вина"
   ]
  },
  {
   "cell_type": "markdown",
   "id": "010ffbe3",
   "metadata": {},
   "source": [
    "### 1.2 Описание \n",
    "The dataset was downloaded from the UCI Machine Learning Repository.\n",
    "\n",
    "The two datasets are related to red and white variants of the Portuguese \"Vinho Verde\" wine. The reference [Cortez et al., 2009]. Due to privacy and logistic issues, only physicochemical (inputs) and sensory (the output) variables are available (e.g. there is no data about grape types, wine brand, wine selling price, etc.).\n",
    "\n",
    "These datasets can be viewed as classification or regression tasks. The classes are ordered and not balanced (e.g. there are munch more normal wines than excellent or poor ones). Outlier detection algorithms could be used to detect the few excellent or poor wines. Also, we are not sure if all input variables are relevant. So it could be interesting to test feature selection methods.\n",
    "\n",
    "Two datasets were combined and few values were randomly removed."
   ]
  },
  {
   "cell_type": "markdown",
   "id": "0633e7cf",
   "metadata": {},
   "source": [
    "### 2.1 Импорт библиотек"
   ]
  },
  {
   "cell_type": "code",
   "execution_count": 82,
   "id": "b5d9eada",
   "metadata": {},
   "outputs": [],
   "source": [
    "import pandas as pd\n",
    "import matplotlib.pyplot as plt\n",
    "import seaborn as sns\n",
    "import os\n",
    "import numpy as np\n",
    "from sklearn.linear_model import LinearRegression\n",
    "from sklearn.svm import SVR\n",
    "from sklearn.neighbors import KNeighborsClassifier\n",
    "from sklearn.model_selection import train_test_split\n",
    "from sklearn.metrics import mean_squared_error,recall_score"
   ]
  },
  {
   "cell_type": "markdown",
   "id": "e4db4992",
   "metadata": {},
   "source": [
    "### 2.2 Загрузка данных"
   ]
  },
  {
   "cell_type": "code",
   "execution_count": 2,
   "id": "21791aca",
   "metadata": {},
   "outputs": [],
   "source": [
    "df = pd.read_csv('winequalityN.csv')"
   ]
  },
  {
   "cell_type": "markdown",
   "id": "4344347f",
   "metadata": {},
   "source": [
    "### 2.3 Информация о датасете"
   ]
  },
  {
   "cell_type": "code",
   "execution_count": 3,
   "id": "de66c552",
   "metadata": {},
   "outputs": [
    {
     "name": "stdout",
     "output_type": "stream",
     "text": [
      "<class 'pandas.core.frame.DataFrame'>\n",
      "RangeIndex: 6497 entries, 0 to 6496\n",
      "Data columns (total 13 columns):\n",
      " #   Column                Non-Null Count  Dtype  \n",
      "---  ------                --------------  -----  \n",
      " 0   type                  6497 non-null   object \n",
      " 1   fixed acidity         6487 non-null   float64\n",
      " 2   volatile acidity      6489 non-null   float64\n",
      " 3   citric acid           6494 non-null   float64\n",
      " 4   residual sugar        6495 non-null   float64\n",
      " 5   chlorides             6495 non-null   float64\n",
      " 6   free sulfur dioxide   6497 non-null   float64\n",
      " 7   total sulfur dioxide  6497 non-null   float64\n",
      " 8   density               6497 non-null   float64\n",
      " 9   pH                    6488 non-null   float64\n",
      " 10  sulphates             6493 non-null   float64\n",
      " 11  alcohol               6497 non-null   float64\n",
      " 12  quality               6497 non-null   int64  \n",
      "dtypes: float64(11), int64(1), object(1)\n",
      "memory usage: 660.0+ KB\n"
     ]
    }
   ],
   "source": [
    "df.info()"
   ]
  },
  {
   "cell_type": "markdown",
   "id": "2e83b729",
   "metadata": {},
   "source": [
    "### 2.4 Обработка данных\n",
    "Работа с пропусками, преобразование переменных, балансировка классов"
   ]
  },
  {
   "cell_type": "code",
   "execution_count": 4,
   "id": "6306dfd7",
   "metadata": {},
   "outputs": [],
   "source": [
    "df = df.dropna()"
   ]
  },
  {
   "cell_type": "code",
   "execution_count": 5,
   "id": "f853569a",
   "metadata": {},
   "outputs": [
    {
     "data": {
      "text/plain": [
       "<AxesSubplot:>"
      ]
     },
     "execution_count": 5,
     "metadata": {},
     "output_type": "execute_result"
    },
    {
     "data": {
      "image/png": "[encoded data removed]",
      "text/plain": [
       "<Figure size 720x432 with 2 Axes>"
      ]
     },
     "metadata": {
      "needs_background": "light"
     },
     "output_type": "display_data"
    }
   ],
   "source": [
    "plt.figure(figsize=(10,6))\n",
    "sns.heatmap(df.corr(), cmap='autumn')"
   ]
  },
  {
   "cell_type": "code",
   "execution_count": 6,
   "id": "b3c80526",
   "metadata": {},
   "outputs": [],
   "source": [
    "df_dummies = pd.concat([pd.get_dummies(df['type']), df], axis=1)"
   ]
  },
  {
   "cell_type": "code",
   "execution_count": 7,
   "id": "e2841e2b",
   "metadata": {},
   "outputs": [],
   "source": [
    "df_dummies.drop('type', inplace=True, axis=1)"
   ]
  },
  {
   "cell_type": "code",
   "execution_count": 8,
   "id": "1fe26a1d",
   "metadata": {},
   "outputs": [
    {
     "data": {
      "text/plain": [
       "(array([4870.,    0.,    0.,    0.,    0.,    0.,    0.,    0.,    0.,\n",
       "        1593.]),\n",
       " array([0. , 0.1, 0.2, 0.3, 0.4, 0.5, 0.6, 0.7, 0.8, 0.9, 1. ]),\n",
       " <BarContainer object of 10 artists>)"
      ]
     },
     "execution_count": 8,
     "metadata": {},
     "output_type": "execute_result"
    },
    {
     "data": {
      "image/png": "[encoded data removed]",
      "text/plain": [
       "<Figure size 432x288 with 1 Axes>"
      ]
     },
     "metadata": {
      "needs_background": "light"
     },
     "output_type": "display_data"
    }
   ],
   "source": [
    "plt.hist(df['type'])"
   ]
  },
  {
   "cell_type": "code",
   "execution_count": 9,
   "id": "828b7b84",
   "metadata": {
    "scrolled": true
   },
   "outputs": [
    {
     "data": {
      "text/plain": [
       "<matplotlib.collections.PathCollection at 0x24ce58c1ca0>"
      ]
     },
     "execution_count": 9,
     "metadata": {},
     "output_type": "execute_result"
    },
    {
     "data": {
      "image/png": "[encoded data removed]",
      "text/plain": [
       "<Figure size 432x288 with 1 Axes>"
      ]
     },
     "metadata": {
      "needs_background": "light"
     },
     "output_type": "display_data"
    }
   ],
   "source": [
    "plt.scatter(df['free sulfur dioxide'], df['total sulfur dioxide'],)"
   ]
  },
  {
   "cell_type": "markdown",
   "id": "72ac0b4a",
   "metadata": {},
   "source": [
    "#### Избавляемся от коррелирующих признаков"
   ]
  },
  {
   "cell_type": "code",
   "execution_count": 10,
   "id": "7675081f",
   "metadata": {},
   "outputs": [],
   "source": [
    "df_dummies.drop('free sulfur dioxide', inplace=True, axis=1)"
   ]
  },
  {
   "cell_type": "markdown",
   "id": "c7d0aca5",
   "metadata": {},
   "source": [
    "#### Сохраняем промежуточные измененные данные"
   ]
  },
  {
   "cell_type": "code",
   "execution_count": 11,
   "id": "da813ec5",
   "metadata": {},
   "outputs": [],
   "source": [
    "df_dummies.to_csv('df_dummies.csv',mode='x')"
   ]
  },
  {
   "cell_type": "code",
   "execution_count": 13,
   "id": "7e1546bd",
   "metadata": {},
   "outputs": [],
   "source": [
    "df_balanced = df_dummies[df_dummies['red']==0].iloc[:df_dummies[df_dummies['red']==1].count()[1]]"
   ]
  },
  {
   "cell_type": "code",
   "execution_count": 14,
   "id": "f98ecc81",
   "metadata": {},
   "outputs": [],
   "source": [
    "df_balanced = pd.concat([df_balanced, df_dummies[df_dummies['red']==1]],axis=0)"
   ]
  },
  {
   "cell_type": "code",
   "execution_count": 15,
   "id": "d80ec4ff",
   "metadata": {},
   "outputs": [
    {
     "data": {
      "text/plain": [
       "(array([1593.,    0.,    0.,    0.,    0.,    0.,    0.,    0.,    0.,\n",
       "        1593.]),\n",
       " array([0. , 0.1, 0.2, 0.3, 0.4, 0.5, 0.6, 0.7, 0.8, 0.9, 1. ]),\n",
       " <BarContainer object of 10 artists>)"
      ]
     },
     "execution_count": 15,
     "metadata": {},
     "output_type": "execute_result"
    },
    {
     "data": {
      "image/png": "[encoded data removed]",
      "text/plain": [
       "<Figure size 432x288 with 1 Axes>"
      ]
     },
     "metadata": {
      "needs_background": "light"
     },
     "output_type": "display_data"
    }
   ],
   "source": [
    "plt.hist(df_balanced.red)"
   ]
  },
  {
   "cell_type": "code",
   "execution_count": 16,
   "id": "b2296219",
   "metadata": {},
   "outputs": [],
   "source": [
    "for i in df_balanced.columns[:-1]:\n",
    "    df_balanced[i] = df_balanced[i]/df_balanced[i].max()"
   ]
  },
  {
   "cell_type": "markdown",
   "id": "acb717db",
   "metadata": {},
   "source": [
    "#### Сохраняем промежуточные измененные данные"
   ]
  },
  {
   "cell_type": "code",
   "execution_count": 17,
   "id": "2a73e757",
   "metadata": {},
   "outputs": [],
   "source": [
    "df_balanced.to_csv('df_balanced.csv',mode='w')"
   ]
  },
  {
   "cell_type": "markdown",
   "id": "5d207d7e",
   "metadata": {},
   "source": [
    "### 3 Подготавливаем тренировочные и тестовые данные"
   ]
  },
  {
   "cell_type": "code",
   "execution_count": 18,
   "id": "7cd792b4",
   "metadata": {},
   "outputs": [],
   "source": [
    "X, y = df_balanced.drop('quality',axis=1), df_balanced['quality']"
   ]
  },
  {
   "cell_type": "code",
   "execution_count": 19,
   "id": "2560680e",
   "metadata": {},
   "outputs": [],
   "source": [
    "X_train, X_test, y_train, y_test = train_test_split(X, y, test_size=0.2, random_state=42)"
   ]
  },
  {
   "cell_type": "markdown",
   "id": "b2b3d564",
   "metadata": {},
   "source": [
    "### 4 Выбираем модели машинного обучения"
   ]
  },
  {
   "cell_type": "markdown",
   "id": "a33324cb",
   "metadata": {},
   "source": [
    "#### 4.1 Линейная регрессия"
   ]
  },
  {
   "cell_type": "code",
   "execution_count": 20,
   "id": "a4c547fb",
   "metadata": {},
   "outputs": [],
   "source": [
    "lr = LinearRegression()"
   ]
  },
  {
   "cell_type": "code",
   "execution_count": 21,
   "id": "fa831599",
   "metadata": {},
   "outputs": [
    {
     "data": {
      "text/plain": [
       "LinearRegression()"
      ]
     },
     "execution_count": 21,
     "metadata": {},
     "output_type": "execute_result"
    }
   ],
   "source": [
    "lr.fit(X_train, y_train)"
   ]
  },
  {
   "cell_type": "code",
   "execution_count": 23,
   "id": "226b2173",
   "metadata": {},
   "outputs": [
    {
     "data": {
      "text/plain": [
       "0.5211724047057278"
      ]
     },
     "execution_count": 23,
     "metadata": {},
     "output_type": "execute_result"
    }
   ],
   "source": [
    "mean_squared_error(y_test, lr.predict(X_test))"
   ]
  },
  {
   "cell_type": "markdown",
   "id": "87e4cbca",
   "metadata": {},
   "source": [
    "#### 4.2 SVR"
   ]
  },
  {
   "cell_type": "code",
   "execution_count": 42,
   "id": "d89774f5",
   "metadata": {},
   "outputs": [],
   "source": [
    "svr = SVR(kernel='poly', degree=5)"
   ]
  },
  {
   "cell_type": "code",
   "execution_count": 43,
   "id": "8ade9bca",
   "metadata": {},
   "outputs": [
    {
     "data": {
      "text/plain": [
       "SVR(degree=5, kernel='poly')"
      ]
     },
     "execution_count": 43,
     "metadata": {},
     "output_type": "execute_result"
    }
   ],
   "source": [
    "svr.fit(X_train, y_train)"
   ]
  },
  {
   "cell_type": "code",
   "execution_count": 45,
   "id": "c9d45b28",
   "metadata": {},
   "outputs": [
    {
     "data": {
      "text/plain": [
       "0.4960142195085669"
      ]
     },
     "execution_count": 45,
     "metadata": {},
     "output_type": "execute_result"
    }
   ],
   "source": [
    "mean_squared_error(y_test, svr.predict(X_test))"
   ]
  },
  {
   "cell_type": "markdown",
   "id": "55e7ba68",
   "metadata": {},
   "source": [
    "#### 4.3 KNN"
   ]
  },
  {
   "cell_type": "code",
   "execution_count": 71,
   "id": "ee76d15a",
   "metadata": {},
   "outputs": [],
   "source": [
    "knn = KNeighborsClassifier()"
   ]
  },
  {
   "cell_type": "code",
   "execution_count": 72,
   "id": "6aa809ef",
   "metadata": {},
   "outputs": [
    {
     "data": {
      "text/plain": [
       "KNeighborsClassifier()"
      ]
     },
     "execution_count": 72,
     "metadata": {},
     "output_type": "execute_result"
    }
   ],
   "source": [
    "knn.fit(X_train, y_train)"
   ]
  },
  {
   "cell_type": "code",
   "execution_count": 74,
   "id": "29254053",
   "metadata": {},
   "outputs": [
    {
     "data": {
      "text/plain": [
       "0.725705329153605"
      ]
     },
     "execution_count": 74,
     "metadata": {},
     "output_type": "execute_result"
    }
   ],
   "source": [
    "mean_squared_error(y_test, knn.predict(X_test))"
   ]
  },
  {
   "cell_type": "markdown",
   "id": "7dc436a3",
   "metadata": {},
   "source": [
    "### 5 Оценка результатов "
   ]
  },
  {
   "cell_type": "code",
   "execution_count": 85,
   "id": "54211e57",
   "metadata": {},
   "outputs": [
    {
     "name": "stdout",
     "output_type": "stream",
     "text": [
      " MSE для регрессии: 0.521\n",
      " MSE для SVR: 0.496\n",
      " MSE для KNN: 0.726\n"
     ]
    }
   ],
   "source": [
    "print(f' MSE для регрессии: {round(mean_squared_error(y_test, lr.predict(X_test)),3)}')\n",
    "print(f' MSE для SVR: {round(mean_squared_error(y_test, svr.predict(X_test)),3)}')\n",
    "print(f' MSE для KNN: {round(mean_squared_error(y_test, knn.predict(X_test)),3)}')"
   ]
  },
  {
   "cell_type": "markdown",
   "id": "d5dedfc2",
   "metadata": {},
   "source": [
    "#### Лучше всего себя показала модель SVR"
   ]
  },
  {
   "cell_type": "markdown",
   "id": "021f4f28",
   "metadata": {},
   "source": [
    "### 6 Развертывние "
   ]
  }
 ],
 "metadata": {
  "kernelspec": {
   "display_name": "Python 3 (ipykernel)",
   "language": "python",
   "name": "python3"
  },
  "language_info": {
   "codemirror_mode": {
    "name": "ipython",
    "version": 3
   },
   "file_extension": ".py",
   "mimetype": "text/x-python",
   "name": "python",
   "nbconvert_exporter": "python",
   "pygments_lexer": "ipython3",
   "version": "3.9.12"
  }
 },
 "nbformat": 4,
 "nbformat_minor": 5
}
